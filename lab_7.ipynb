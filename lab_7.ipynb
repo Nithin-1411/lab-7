{
 "cells": [
  {
   "cell_type": "code",
   "execution_count": 1,
   "id": "e2ae1b99-8a58-4366-a21d-5d71bacd09a6",
   "metadata": {},
   "outputs": [],
   "source": [
    "import numpy as np\n",
    "import pandas as pd\n",
    "\n",
    "# Load the data\n",
    "data =pd.read_csv(\"extracted_features_charrec.csv\")\n",
    "\n",
    "# Preprocess the data\n",
    "X = data.drop(columns=['class_name']) \n",
    "y = data['class_name']\n",
    "\n",
    "# Convert the data to NumPy arrays\n",
    "X = X.to_numpy()\n",
    "y = y.to_numpy()\n"
   ]
  },
  {
   "cell_type": "code",
   "execution_count": 4,
   "id": "5b345e28-a706-4ee6-a28d-713b79b70795",
   "metadata": {
    "scrolled": true
   },
   "outputs": [
    {
     "name": "stdout",
     "output_type": "stream",
     "text": [
      "Support Vectors:\n",
      "[[1.8900362e-03 8.9604706e-01 3.2140180e-12 ... 1.6760609e-16\n",
      "  2.8267270e-19 5.9275696e-13]\n",
      " [9.9999547e-01 4.3599553e-06 1.8259521e-26 ... 3.9100250e-30\n",
      "  3.6225760e-29 2.2786218e-20]\n",
      " [1.6949957e-07 1.3364159e-16 1.0439399e-22 ... 1.7190710e-24\n",
      "  6.9792300e-22 1.1682956e-09]\n",
      " ...\n",
      " [1.2924717e-13 3.3942992e-15 1.0140655e-15 ... 1.4110020e-06\n",
      "  2.3930597e-06 9.9999430e-01]\n",
      " [1.5399067e-25 8.2776546e-27 1.1282632e-24 ... 1.3686644e-06\n",
      "  1.8779993e-12 9.9999845e-01]\n",
      " [2.0338880e-23 4.2096657e-27 8.9167110e-30 ... 3.0392140e-15\n",
      "  5.3937076e-17 1.0000000e+00]]\n",
      "Number of support vectors for each class: [ 69  52  75  52 128 118  54  61 108  33  84  37  47 106  48  91  91  26\n",
      "  61  39  58  96 110  44  65  49  77  66  30  58  50  56 102  93  49  70\n",
      "  27  14  66  39  58  83  45  14  39  50  25  14]\n"
     ]
    }
   ],
   "source": [
    "import numpy as np\n",
    "from sklearn import svm\n",
    "from sklearn.model_selection import train_test_split\n",
    "X_train, X_test, y_train, y_test = train_test_split(X, y, test_size=0.2, random_state=42)\n",
    "# Create an instance of the SVM classifier\n",
    "clf = svm.SVC()\n",
    "\n",
    "# Train the SVM model with the training data\n",
    "clf.fit(X_train, y_train)\n",
    "\n",
    "# Get the support vectors\n",
    "support_vectors = clf.support_vectors_\n",
    "\n",
    "# Number of support vectors for each class\n",
    "n_support_vectors = clf.n_support_\n",
    "\n",
    "print(\"Support Vectors:\")\n",
    "print(support_vectors)\n",
    "print(\"Number of support vectors for each class:\", n_support_vectors)\n"
   ]
  },
  {
   "cell_type": "code",
   "execution_count": 5,
   "id": "f00104fd-7e4c-4684-97bc-7c7711e6e804",
   "metadata": {},
   "outputs": [
    {
     "name": "stdout",
     "output_type": "stream",
     "text": [
      "Accuracy: 0.6501501501501501\n"
     ]
    }
   ],
   "source": [
    "accuracy = clf.score(X_test, y_test)\n",
    "print(\"Accuracy:\", accuracy)\n"
   ]
  },
  {
   "cell_type": "code",
   "execution_count": 6,
   "id": "8ad8e763-b11d-41a6-80dd-877b263e90ac",
   "metadata": {},
   "outputs": [],
   "source": [
    "y_pred = clf.predict(X_test)\n"
   ]
  },
  {
   "cell_type": "code",
   "execution_count": 7,
   "id": "7d1b7101-3976-4a67-a7e7-c1219f55870f",
   "metadata": {},
   "outputs": [
    {
     "name": "stdout",
     "output_type": "stream",
     "text": [
      "Accuracy (Linear Kernel): 0.6493993993993994\n"
     ]
    }
   ],
   "source": [
    "clf_linear = svm.SVC(kernel='linear')\n",
    "clf_linear.fit(X_train, y_train)\n",
    "accuracy_linear = clf_linear.score(X_test, y_test)\n",
    "print(\"Accuracy (Linear Kernel):\", accuracy_linear)\n"
   ]
  },
  {
   "cell_type": "code",
   "execution_count": 8,
   "id": "fc5af1cc-628f-408e-99e6-127cd634f26e",
   "metadata": {},
   "outputs": [
    {
     "name": "stdout",
     "output_type": "stream",
     "text": [
      "Accuracy (Polynomial Kernel): 0.6463963963963963\n"
     ]
    }
   ],
   "source": [
    "clf_poly = svm.SVC(kernel='poly')\n",
    "clf_poly.fit(X_train, y_train)\n",
    "accuracy_poly = clf_poly.score(X_test, y_test)\n",
    "print(\"Accuracy (Polynomial Kernel):\", accuracy_poly)\n"
   ]
  },
  {
   "cell_type": "code",
   "execution_count": 9,
   "id": "331791a5-b985-43af-b7e8-810ca86d29dc",
   "metadata": {},
   "outputs": [
    {
     "name": "stdout",
     "output_type": "stream",
     "text": [
      "Accuracy (RBF Kernel): 0.6501501501501501\n"
     ]
    }
   ],
   "source": [
    "clf_rbf = svm.SVC(kernel='rbf')\n",
    "clf_rbf.fit(X_train, y_train)\n",
    "accuracy_rbf = clf_rbf.score(X_test, y_test)\n",
    "print(\"Accuracy (RBF Kernel):\", accuracy_rbf)\n"
   ]
  },
  {
   "cell_type": "code",
   "execution_count": 10,
   "id": "ddcc0549-a67b-4336-8349-575afa90e5b2",
   "metadata": {},
   "outputs": [
    {
     "name": "stdout",
     "output_type": "stream",
     "text": [
      "Accuracy (Sigmoid Kernel): 0.6433933933933934\n"
     ]
    }
   ],
   "source": [
    "clf_sigmoid = svm.SVC(kernel='sigmoid')\n",
    "clf_sigmoid.fit(X_train, y_train)\n",
    "accuracy_sigmoid = clf_sigmoid.score(X_test, y_test)\n",
    "print(\"Accuracy (Sigmoid Kernel):\", accuracy_sigmoid)\n"
   ]
  }
 ],
 "metadata": {
  "kernelspec": {
   "display_name": "Python 3 (ipykernel)",
   "language": "python",
   "name": "python3"
  },
  "language_info": {
   "codemirror_mode": {
    "name": "ipython",
    "version": 3
   },
   "file_extension": ".py",
   "mimetype": "text/x-python",
   "name": "python",
   "nbconvert_exporter": "python",
   "pygments_lexer": "ipython3",
   "version": "3.10.4"
  }
 },
 "nbformat": 4,
 "nbformat_minor": 5
}
